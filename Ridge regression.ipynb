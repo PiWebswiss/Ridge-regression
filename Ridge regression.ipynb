{
 "cells": [
  {
   "attachments": {},
   "cell_type": "markdown",
   "metadata": {},
   "source": [
    "# Ridge regression\n",
    "\n",
    "![Alt text](Screenshot%202023-01-17%20133737.png)"
   ]
  },
  {
   "attachments": {},
   "cell_type": "markdown",
   "metadata": {},
   "source": [
    "In the last unit, we learned about \n",
    "L\n",
    "2\n",
    " regularization and saw that it adds a constraint on the length of the vector of parameters.\n",
    ". So far, we didn’t specify any particular model or cost function, but if we use multi-linear regressions and minimize the squares of the residuals, we obtain the ridge regression model.\n",
    "<!-- \n",
    "![Alt text](Screenshot%202023-01-17%20143735.png) -->\n",
    "\n",
    "In this unit, we will implement ridge regressions with Scikit-learn and test our model on a set of 50 noisy observations of a sine curve."
   ]
  },
  {
   "attachments": {},
   "cell_type": "markdown",
   "metadata": {},
   "source": [
    "Sine curve data set\n",
    "---\n",
    "Let’s start by loading the training data set."
   ]
  },
  {
   "cell_type": "code",
   "execution_count": 1,
   "metadata": {},
   "outputs": [
    {
     "name": "stdout",
     "output_type": "stream",
     "text": [
      "Shape: (50, 2)\n"
     ]
    }
   ],
   "source": [
    "import pandas as pd\n",
    "\n",
    "# Load the training data\n",
    "training_data = pd.read_csv(\"c3_data-points.csv\")\n",
    "\n",
    "# Print shape\n",
    "print(\"Shape:\", training_data.shape)"
   ]
  },
  {
   "cell_type": "code",
   "execution_count": 2,
   "metadata": {},
   "outputs": [
    {
     "data": {
      "text/html": [
       "<div>\n",
       "<style scoped>\n",
       "    .dataframe tbody tr th:only-of-type {\n",
       "        vertical-align: middle;\n",
       "    }\n",
       "\n",
       "    .dataframe tbody tr th {\n",
       "        vertical-align: top;\n",
       "    }\n",
       "\n",
       "    .dataframe thead th {\n",
       "        text-align: right;\n",
       "    }\n",
       "</style>\n",
       "<table border=\"1\" class=\"dataframe\">\n",
       "  <thead>\n",
       "    <tr style=\"text-align: right;\">\n",
       "      <th></th>\n",
       "      <th>x</th>\n",
       "      <th>y</th>\n",
       "    </tr>\n",
       "  </thead>\n",
       "  <tbody>\n",
       "    <tr>\n",
       "      <th>0</th>\n",
       "      <td>0.000</td>\n",
       "      <td>0.706</td>\n",
       "    </tr>\n",
       "    <tr>\n",
       "      <th>1</th>\n",
       "      <td>0.128</td>\n",
       "      <td>0.288</td>\n",
       "    </tr>\n",
       "    <tr>\n",
       "      <th>2</th>\n",
       "      <td>0.256</td>\n",
       "      <td>0.645</td>\n",
       "    </tr>\n",
       "    <tr>\n",
       "      <th>3</th>\n",
       "      <td>0.385</td>\n",
       "      <td>1.272</td>\n",
       "    </tr>\n",
       "    <tr>\n",
       "      <th>4</th>\n",
       "      <td>0.513</td>\n",
       "      <td>1.238</td>\n",
       "    </tr>\n",
       "  </tbody>\n",
       "</table>\n",
       "</div>"
      ],
      "text/plain": [
       "       x      y\n",
       "0  0.000  0.706\n",
       "1  0.128  0.288\n",
       "2  0.256  0.645\n",
       "3  0.385  1.272\n",
       "4  0.513  1.238"
      ]
     },
     "execution_count": 2,
     "metadata": {},
     "output_type": "execute_result"
    }
   ],
   "source": [
    "# First five rows\n",
    "training_data.head()"
   ]
  },
  {
   "attachments": {},
   "cell_type": "markdown",
   "metadata": {},
   "source": [
    "We generated the 50 x/y data points using a sine curve. The idea is to create 50 points on the curve and add a small noise to each point. Let’s create the x, y variables and plot the data. Note that in this unit we work only with the training set and for simplicity we use the names ``x, y`` instead of ``x_tr, y_tr``."
   ]
  },
  {
   "cell_type": "code",
   "execution_count": 3,
   "metadata": {},
   "outputs": [
    {
     "data": {
      "image/png": "[encoded data removed]",
      "text/plain": [
       "<Figure size 432x288 with 1 Axes>"
      ]
     },
     "metadata": {
      "needs_background": "light"
     },
     "output_type": "display_data"
    }
   ],
   "source": [
    "%matplotlib inline\n",
    "import matplotlib.pyplot as plt\n",
    "import numpy as np\n",
    "\n",
    "# Extract x, y data\n",
    "x = training_data.x.values\n",
    "y = training_data.y.values\n",
    "\n",
    "# Plot data points\n",
    "plt.scatter(x, y)\n",
    "\n",
    "# Plot the sine curve for reference\n",
    "x_values = np.linspace(min(x), max(x), num=100)\n",
    "y_sine = np.sin(x_values)\n",
    "plt.plot(x_values, y_sine, c=\"C3\", label=\"sine curve\")\n",
    "plt.legend()\n",
    "plt.show()"
   ]
  },
  {
   "attachments": {},
   "cell_type": "markdown",
   "metadata": {},
   "source": [
    "In this unit, we will try to recover this sine curve from the 50 noisy observations of it.\n",
    "\n",
    "#### Polynomial regression\n",
    "\n",
    "Let’s fit a polynomial regression of degree 10 to this set of points. We can generate the polynomial features using the PolynomialFeatures object from Scikit-learn."
   ]
  },
  {
   "cell_type": "code",
   "execution_count": 4,
   "metadata": {},
   "outputs": [
    {
     "name": "stdout",
     "output_type": "stream",
     "text": [
      "Shape: (50, 10)\n",
      "Features: ['x0' 'x0^2' 'x0^3' 'x0^4' 'x0^5' 'x0^6' 'x0^7' 'x0^8' 'x0^9' 'x0^10']\n"
     ]
    }
   ],
   "source": [
    "from sklearn.preprocessing import PolynomialFeatures\n",
    "\n",
    "# Create the polynomial feature\n",
    "poly_obj = PolynomialFeatures(degree=10, include_bias=False)\n",
    "X_poly = poly_obj.fit_transform(x[:, np.newaxis])\n",
    "\n",
    "print(\"Shape:\", X_poly.shape)\n",
    "print(\"Features:\", poly_obj.get_feature_names_out())"
   ]
  },
  {
   "attachments": {},
   "cell_type": "markdown",
   "metadata": {},
   "source": [
    "> When include_bias is set to True, it adds a column of ones to the input array, which can be used as a bias term in the model. It will be the coefficient of the first term of the polynomial (i.e. x^0)."
   ]
  },
  {
   "attachments": {},
   "cell_type": "markdown",
   "metadata": {},
   "source": [
    "Later in this unit, we will apply regularization to our models. Since regularization is sensitive to the scale of our features, we will start by standardizing our data.\n",
    "\n",
    "This is a common operation in machine learning, so Scikit-learn implements a ``StandardScaler()`` object to do it. Let’s see how to use to it."
   ]
  },
  {
   "attachments": {},
   "cell_type": "markdown",
   "metadata": {},
   "source": [
    "> Standardization is a method to transform variables with different scales into a common scale (usually between 0 and 1) so that the data can be handled more easily. It is commonly used for feature scaling before applying machine learning algorithms.\n"
   ]
  },
  {
   "cell_type": "code",
   "execution_count": 5,
   "metadata": {},
   "outputs": [],
   "source": [
    "from sklearn.preprocessing import StandardScaler\n",
    "\n",
    "scaler = StandardScaler()\n",
    "X_rescaled = scaler.fit_transform(X_poly)"
   ]
  },
  {
   "attachments": {},
   "cell_type": "markdown",
   "metadata": {},
   "source": [
    "__In this code, we first have to create the object and then call its ``fit_transform()`` function to compute the mean/standard deviation of each feature (fit) and apply standardization (transform).__"
   ]
  },
  {
   "attachments": {},
   "cell_type": "markdown",
   "metadata": {},
   "source": [
    "> **Note:**\n",
    "Important note: The scaler object has also a transform() function which does not compute the mean/standard deviation of a feature but only applies the transformation. However, since here we are working with the training data we should use fit_transform() function. Later in this course we will see that in order to only apply the standardization on the validation and testing data we should use the transform() function. This is because we shouldn’t learn the mean/standard deviation from the validation and testing data."
   ]
  },
  {
   "attachments": {},
   "cell_type": "markdown",
   "metadata": {},
   "source": [
    "Let’s verify that the data is standardized. The mean should be close to zero."
   ]
  },
  {
   "cell_type": "code",
   "execution_count": 6,
   "metadata": {},
   "outputs": [
    {
     "data": {
      "text/plain": [
       "array([ 1.77635684e-16,  2.66453526e-16, -1.68753900e-16, -8.88178420e-18,\n",
       "       -7.99360578e-17,  8.88178420e-18, -1.77635684e-17, -1.77635684e-17,\n",
       "        4.44089210e-17,  1.06581410e-16])"
      ]
     },
     "execution_count": 6,
     "metadata": {},
     "output_type": "execute_result"
    }
   ],
   "source": [
    "X_rescaled.mean(axis=0)"
   ]
  },
  {
   "attachments": {},
   "cell_type": "markdown",
   "metadata": {},
   "source": [
    "And the standard deviation close to one."
   ]
  },
  {
   "cell_type": "code",
   "execution_count": 7,
   "metadata": {},
   "outputs": [
    {
     "data": {
      "text/plain": [
       "array([1., 1., 1., 1., 1., 1., 1., 1., 1., 1.])"
      ]
     },
     "execution_count": 7,
     "metadata": {},
     "output_type": "execute_result"
    }
   ],
   "source": [
    "X_rescaled.std(axis=0)"
   ]
  },
  {
   "attachments": {},
   "cell_type": "markdown",
   "metadata": {},
   "source": [
    "Let’s now fit a linear regression to the standardize data and plot its prediction curve."
   ]
  },
  {
   "cell_type": "code",
   "execution_count": 8,
   "metadata": {},
   "outputs": [],
   "source": [
    "from sklearn.linear_model import LinearRegression\n",
    "\n",
    "# Linear reggression\n",
    "lr = LinearRegression()\n",
    "lr.fit(X_rescaled, y)\n",
    "\n",
    "# Pass sample x values through the preprocessing steps\n",
    "X_values_rescaled = scaler.transform(poly_obj.transform(x_values[:, np.newaxis]))\n",
    "y_values_lr = lr.predict(X_values_rescaled)"
   ]
  },
  {
   "attachments": {},
   "cell_type": "markdown",
   "metadata": {},
   "source": [
    "Note that we need to apply all the preprocessing steps to the hundred ``x_values`` used to plot the prediction curve: we first create the polynomial basis with ``poly_obj.transform()`` and then standardize the features with ``scaler.transform()`` to get the ``X_values_rescaled``. We can then pass the results to our model to get the predictions ``y_values_lr``.\n",
    "\n",
    "Here is the result."
   ]
  },
  {
   "cell_type": "code",
   "execution_count": 9,
   "metadata": {},
   "outputs": [
    {
     "data": {
      "text/plain": [
       "(100, 10)"
      ]
     },
     "execution_count": 9,
     "metadata": {},
     "output_type": "execute_result"
    }
   ],
   "source": [
    "X_values_rescaled.shape"
   ]
  },
  {
   "cell_type": "code",
   "execution_count": 10,
   "metadata": {},
   "outputs": [
    {
     "data": {
      "image/png": "[encoded data removed]",
      "text/plain": [
       "<Figure size 432x288 with 1 Axes>"
      ]
     },
     "metadata": {
      "needs_background": "light"
     },
     "output_type": "display_data"
    }
   ],
   "source": [
    "# Plot the model\n",
    "plt.scatter(X_rescaled[:, 0], y)\n",
    "plt.plot(X_values_rescaled[:, 0], y_values_lr, c=\"C3\", label=\"linear regression deg10\")\n",
    "plt.legend()\n",
    "plt.show()"
   ]
  },
  {
   "attachments": {},
   "cell_type": "markdown",
   "metadata": {},
   "source": [
    "As we can see, the model is clearly overfitting. Let’s try to reduce overfitting with regularization\n",
    "\n",
    "## Ridge regression\n",
    "Scikit-learn implements ridge regressions with its Ridge object from the linear_model module. This object is an estimator which means that it implements the usual ``fit(), predict()`` and ``score()`` functions.\n",
    "\n"
   ]
  },
  {
   "cell_type": "code",
   "execution_count": 11,
   "metadata": {},
   "outputs": [],
   "source": [
    "from sklearn.linear_model import Ridge\n",
    "# Ridge regression\n",
    "ridge = Ridge()\n",
    "ridge.fit(X_rescaled, y)\n",
    "\n",
    "# Compute pretictions\n",
    "y_values_ridge = ridge.predict(X_values_rescaled)"
   ]
  },
  {
   "attachments": {},
   "cell_type": "markdown",
   "metadata": {},
   "source": [
    "In this code, we replaced the LinearRegression object with a Ridge one. The rest of the code is the same. We get the following curve."
   ]
  },
  {
   "cell_type": "code",
   "execution_count": 12,
   "metadata": {},
   "outputs": [
    {
     "data": {
      "image/png": "[encoded data removed]",
      "text/plain": [
       "<Figure size 432x288 with 1 Axes>"
      ]
     },
     "metadata": {
      "needs_background": "light"
     },
     "output_type": "display_data"
    }
   ],
   "source": [
    "# Plot the model\n",
    "plt.scatter(X_rescaled[:, 0], y)\n",
    "plt.plot(X_values_rescaled[:, 0], y_values_ridge, c=\"C3\", label=\"rridge regression deg10\")\n",
    "plt.legend()\n",
    "plt.show()"
   ]
  },
  {
   "attachments": {},
   "cell_type": "markdown",
   "metadata": {},
   "source": [
    "By default, the Ridge object sets the regularization strength \n",
    "$α$\n",
    " to one. In our case, the curve is too rigid to model the data points, and the model is __underfitting__.\n",
    "\n",
    "We can decrease the constraint on the coefficients by setting a lower alpha value."
   ]
  },
  {
   "cell_type": "code",
   "execution_count": 13,
   "metadata": {},
   "outputs": [],
   "source": [
    "# Ridge regression\n",
    "ridge2 = Ridge(alpha=1e-4)\n",
    "ridge2.fit(X_rescaled, y)\n",
    "\n",
    "# Compute pretictions\n",
    "y_values_ridge2 = ridge2.predict(X_values_rescaled)"
   ]
  },
  {
   "attachments": {},
   "cell_type": "markdown",
   "metadata": {},
   "source": [
    "In this code, we set alpha to \n",
    "$10^{-4}$\n",
    " (1e-4 in e-notation). We will see how to tune the regularization strength and compute this alpha value in the next unit.\n",
    "\n",
    "We get the following curve."
   ]
  },
  {
   "cell_type": "code",
   "execution_count": 14,
   "metadata": {},
   "outputs": [
    {
     "data": {
      "image/png": "[encoded data removed]",
      "text/plain": [
       "<Figure size 432x288 with 1 Axes>"
      ]
     },
     "metadata": {
      "needs_background": "light"
     },
     "output_type": "display_data"
    }
   ],
   "source": [
    "# Plot the model\n",
    "plt.scatter(X_rescaled[:, 0], y)\n",
    "plt.plot(X_values_rescaled[:, 0], y_values_ridge2, c=\"C3\", label=\"rridge regression deg10\")\n",
    "plt.legend()\n",
    "plt.show()"
   ]
  },
  {
   "attachments": {},
   "cell_type": "markdown",
   "metadata": {},
   "source": [
    "We can also compare the coefficients before and after adding the regularization term using the ``coef_`` attribute."
   ]
  },
  {
   "cell_type": "code",
   "execution_count": 15,
   "metadata": {},
   "outputs": [
    {
     "ename": "SyntaxError",
     "evalue": "invalid syntax (3280250661.py, line 4)",
     "output_type": "error",
     "traceback": [
      "\u001b[1;36m  File \u001b[1;32m\"C:\\Users\\louis\\AppData\\Local\\Temp\\ipykernel_14696\\3280250661.py\"\u001b[1;36m, line \u001b[1;32m4\u001b[0m\n\u001b[1;33m    for features, coef\u001b[0m\n\u001b[1;37m                      ^\u001b[0m\n\u001b[1;31mSyntaxError\u001b[0m\u001b[1;31m:\u001b[0m invalid syntax\n"
     ]
    }
   ],
   "source": [
    "# Linear regression coefficients\n",
    "features = poly_obj.get_feature_names_out()\n",
    "\n",
    "for features, coef"
   ]
  }
 ],
 "metadata": {
  "kernelspec": {
   "display_name": "adsml",
   "language": "python",
   "name": "python3"
  },
  "language_info": {
   "codemirror_mode": {
    "name": "ipython",
    "version": 3
   },
   "file_extension": ".py",
   "mimetype": "text/x-python",
   "name": "python",
   "nbconvert_exporter": "python",
   "pygments_lexer": "ipython3",
   "version": "3.9.7"
  },
  "orig_nbformat": 4,
  "vscode": {
   "interpreter": {
    "hash": "a4d6d00a01e07822cc5e0a1853c1ff22f2e3f81255db48243f0d3135c859d172"
   }
  }
 },
 "nbformat": 4,
 "nbformat_minor": 2
}
